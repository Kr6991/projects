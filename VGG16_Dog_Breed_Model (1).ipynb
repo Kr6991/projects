{
  "cells": [
    {
      "cell_type": "code",
      "execution_count": null,
      "metadata": {
        "colab": {
          "background_save": true
        },
        "id": "jXYnxOsPDFnV"
      },
      "outputs": [],
      "source": [
        "# Importing Libraries\n",
        "import pandas as pd\n",
        "import numpy as np\n",
        "import matplotlib.pyplot as plt\n",
        "import seaborn as sns\n",
        "import tensorflow as tf\n",
        "import os\n",
        "import cv2"
      ]
    },
    {
      "cell_type": "code",
      "execution_count": null,
      "metadata": {
        "colab": {
          "base_uri": "https://localhost:8080/",
          "height": 328
        },
        "id": "Khr-zulLDc8h",
        "outputId": "898a5e89-b2d4-4d68-be87-e5bc65152654"
      },
      "outputs": [
        {
          "ename": "OSError",
          "evalue": "ignored",
          "output_type": "error",
          "traceback": [
            "\u001b[0;31m---------------------------------------------------------------------------\u001b[0m",
            "\u001b[0;31mOSError\u001b[0m                                   Traceback (most recent call last)",
            "\u001b[0;32m<ipython-input-2-2e5e3441a2d1>\u001b[0m in \u001b[0;36m<cell line: 1>\u001b[0;34m()\u001b[0m\n\u001b[0;32m----> 1\u001b[0;31m \u001b[0;32mimport\u001b[0m \u001b[0mkaggle\u001b[0m\u001b[0;34m\u001b[0m\u001b[0;34m\u001b[0m\u001b[0m\n\u001b[0m",
            "\u001b[0;32m/usr/local/lib/python3.10/dist-packages/kaggle/__init__.py\u001b[0m in \u001b[0;36m<module>\u001b[0;34m\u001b[0m\n\u001b[1;32m     21\u001b[0m \u001b[0;34m\u001b[0m\u001b[0m\n\u001b[1;32m     22\u001b[0m \u001b[0mapi\u001b[0m \u001b[0;34m=\u001b[0m \u001b[0mKaggleApi\u001b[0m\u001b[0;34m(\u001b[0m\u001b[0mApiClient\u001b[0m\u001b[0;34m(\u001b[0m\u001b[0;34m)\u001b[0m\u001b[0;34m)\u001b[0m\u001b[0;34m\u001b[0m\u001b[0;34m\u001b[0m\u001b[0m\n\u001b[0;32m---> 23\u001b[0;31m \u001b[0mapi\u001b[0m\u001b[0;34m.\u001b[0m\u001b[0mauthenticate\u001b[0m\u001b[0;34m(\u001b[0m\u001b[0;34m)\u001b[0m\u001b[0;34m\u001b[0m\u001b[0;34m\u001b[0m\u001b[0m\n\u001b[0m",
            "\u001b[0;32m/usr/local/lib/python3.10/dist-packages/kaggle/api/kaggle_api_extended.py\u001b[0m in \u001b[0;36mauthenticate\u001b[0;34m(self)\u001b[0m\n\u001b[1;32m    162\u001b[0m                 \u001b[0mconfig_data\u001b[0m \u001b[0;34m=\u001b[0m \u001b[0mself\u001b[0m\u001b[0;34m.\u001b[0m\u001b[0mread_config_file\u001b[0m\u001b[0;34m(\u001b[0m\u001b[0mconfig_data\u001b[0m\u001b[0;34m)\u001b[0m\u001b[0;34m\u001b[0m\u001b[0;34m\u001b[0m\u001b[0m\n\u001b[1;32m    163\u001b[0m             \u001b[0;32melse\u001b[0m\u001b[0;34m:\u001b[0m\u001b[0;34m\u001b[0m\u001b[0;34m\u001b[0m\u001b[0m\n\u001b[0;32m--> 164\u001b[0;31m                 raise IOError('Could not find {}. Make sure it\\'s located in'\n\u001b[0m\u001b[1;32m    165\u001b[0m                               ' {}. Or use the environment method.'.format(\n\u001b[1;32m    166\u001b[0m                                   self.config_file, self.config_dir))\n",
            "\u001b[0;31mOSError\u001b[0m: Could not find kaggle.json. Make sure it's located in /root/.kaggle. Or use the environment method."
          ]
        }
      ],
      "source": [
        "import kaggle"
      ]
    },
    {
      "cell_type": "code",
      "execution_count": null,
      "metadata": {
        "id": "O3JQhr4zEDfC"
      },
      "outputs": [],
      "source": [
        "! mv kaggle.json /root/.kaggle/\n",
        "import kaggle\n"
      ]
    },
    {
      "cell_type": "code",
      "execution_count": null,
      "metadata": {
        "colab": {
          "base_uri": "https://localhost:8080/"
        },
        "id": "QGYuVJAaEGV2",
        "outputId": "3de92002-3e7f-47c9-afff-4e250131c39a"
      },
      "outputs": [
        {
          "name": "stdout",
          "output_type": "stream",
          "text": [
            "Warning: Your Kaggle API key is readable by other users on this system! To fix this, you can run 'chmod 600 /root/.kaggle/kaggle.json'\n",
            "Downloading dog-breed-identification.zip to /content\n",
            " 97% 670M/691M [00:06<00:00, 183MB/s]\n",
            "100% 691M/691M [00:06<00:00, 107MB/s]\n"
          ]
        }
      ],
      "source": [
        "! kaggle competitions download -c dog-breed-identification # Downloading dataset"
      ]
    },
    {
      "cell_type": "code",
      "execution_count": null,
      "metadata": {
        "id": "fuKoAHjRGlYZ"
      },
      "outputs": [],
      "source": [
        "! unzip -q dog-breed-identification.zip"
      ]
    },
    {
      "cell_type": "code",
      "execution_count": null,
      "metadata": {
        "colab": {
          "base_uri": "https://localhost:8080/",
          "height": 175
        },
        "id": "Kfxr8CCjHNF9",
        "outputId": "4e4aa494-303a-4388-f6d5-65f9e205f6c8"
      },
      "outputs": [
        {
          "data": {
            "text/html": [
              "\n",
              "  <div id=\"df-27765854-5df2-459e-8e76-842d1f8d34a9\">\n",
              "    <div class=\"colab-df-container\">\n",
              "      <div>\n",
              "<style scoped>\n",
              "    .dataframe tbody tr th:only-of-type {\n",
              "        vertical-align: middle;\n",
              "    }\n",
              "\n",
              "    .dataframe tbody tr th {\n",
              "        vertical-align: top;\n",
              "    }\n",
              "\n",
              "    .dataframe thead th {\n",
              "        text-align: right;\n",
              "    }\n",
              "</style>\n",
              "<table border=\"1\" class=\"dataframe\">\n",
              "  <thead>\n",
              "    <tr style=\"text-align: right;\">\n",
              "      <th></th>\n",
              "      <th>id</th>\n",
              "      <th>breed</th>\n",
              "    </tr>\n",
              "  </thead>\n",
              "  <tbody>\n",
              "    <tr>\n",
              "      <th>0</th>\n",
              "      <td>000bec180eb18c7604dcecc8fe0dba07</td>\n",
              "      <td>boston_bull</td>\n",
              "    </tr>\n",
              "    <tr>\n",
              "      <th>1</th>\n",
              "      <td>001513dfcb2ffafc82cccf4d8bbaba97</td>\n",
              "      <td>dingo</td>\n",
              "    </tr>\n",
              "    <tr>\n",
              "      <th>2</th>\n",
              "      <td>001cdf01b096e06d78e9e5112d419397</td>\n",
              "      <td>pekinese</td>\n",
              "    </tr>\n",
              "    <tr>\n",
              "      <th>3</th>\n",
              "      <td>00214f311d5d2247d5dfe4fe24b2303d</td>\n",
              "      <td>bluetick</td>\n",
              "    </tr>\n",
              "  </tbody>\n",
              "</table>\n",
              "</div>\n",
              "      <button class=\"colab-df-convert\" onclick=\"convertToInteractive('df-27765854-5df2-459e-8e76-842d1f8d34a9')\"\n",
              "              title=\"Convert this dataframe to an interactive table.\"\n",
              "              style=\"display:none;\">\n",
              "        \n",
              "  <svg xmlns=\"http://www.w3.org/2000/svg\" height=\"24px\"viewBox=\"0 0 24 24\"\n",
              "       width=\"24px\">\n",
              "    <path d=\"M0 0h24v24H0V0z\" fill=\"none\"/>\n",
              "    <path d=\"M18.56 5.44l.94 2.06.94-2.06 2.06-.94-2.06-.94-.94-2.06-.94 2.06-2.06.94zm-11 1L8.5 8.5l.94-2.06 2.06-.94-2.06-.94L8.5 2.5l-.94 2.06-2.06.94zm10 10l.94 2.06.94-2.06 2.06-.94-2.06-.94-.94-2.06-.94 2.06-2.06.94z\"/><path d=\"M17.41 7.96l-1.37-1.37c-.4-.4-.92-.59-1.43-.59-.52 0-1.04.2-1.43.59L10.3 9.45l-7.72 7.72c-.78.78-.78 2.05 0 2.83L4 21.41c.39.39.9.59 1.41.59.51 0 1.02-.2 1.41-.59l7.78-7.78 2.81-2.81c.8-.78.8-2.07 0-2.86zM5.41 20L4 18.59l7.72-7.72 1.47 1.35L5.41 20z\"/>\n",
              "  </svg>\n",
              "      </button>\n",
              "      \n",
              "  <style>\n",
              "    .colab-df-container {\n",
              "      display:flex;\n",
              "      flex-wrap:wrap;\n",
              "      gap: 12px;\n",
              "    }\n",
              "\n",
              "    .colab-df-convert {\n",
              "      background-color: #E8F0FE;\n",
              "      border: none;\n",
              "      border-radius: 50%;\n",
              "      cursor: pointer;\n",
              "      display: none;\n",
              "      fill: #1967D2;\n",
              "      height: 32px;\n",
              "      padding: 0 0 0 0;\n",
              "      width: 32px;\n",
              "    }\n",
              "\n",
              "    .colab-df-convert:hover {\n",
              "      background-color: #E2EBFA;\n",
              "      box-shadow: 0px 1px 2px rgba(60, 64, 67, 0.3), 0px 1px 3px 1px rgba(60, 64, 67, 0.15);\n",
              "      fill: #174EA6;\n",
              "    }\n",
              "\n",
              "    [theme=dark] .colab-df-convert {\n",
              "      background-color: #3B4455;\n",
              "      fill: #D2E3FC;\n",
              "    }\n",
              "\n",
              "    [theme=dark] .colab-df-convert:hover {\n",
              "      background-color: #434B5C;\n",
              "      box-shadow: 0px 1px 3px 1px rgba(0, 0, 0, 0.15);\n",
              "      filter: drop-shadow(0px 1px 2px rgba(0, 0, 0, 0.3));\n",
              "      fill: #FFFFFF;\n",
              "    }\n",
              "  </style>\n",
              "\n",
              "      <script>\n",
              "        const buttonEl =\n",
              "          document.querySelector('#df-27765854-5df2-459e-8e76-842d1f8d34a9 button.colab-df-convert');\n",
              "        buttonEl.style.display =\n",
              "          google.colab.kernel.accessAllowed ? 'block' : 'none';\n",
              "\n",
              "        async function convertToInteractive(key) {\n",
              "          const element = document.querySelector('#df-27765854-5df2-459e-8e76-842d1f8d34a9');\n",
              "          const dataTable =\n",
              "            await google.colab.kernel.invokeFunction('convertToInteractive',\n",
              "                                                     [key], {});\n",
              "          if (!dataTable) return;\n",
              "\n",
              "          const docLinkHtml = 'Like what you see? Visit the ' +\n",
              "            '<a target=\"_blank\" href=https://colab.research.google.com/notebooks/data_table.ipynb>data table notebook</a>'\n",
              "            + ' to learn more about interactive tables.';\n",
              "          element.innerHTML = '';\n",
              "          dataTable['output_type'] = 'display_data';\n",
              "          await google.colab.output.renderOutput(dataTable, element);\n",
              "          const docLink = document.createElement('div');\n",
              "          docLink.innerHTML = docLinkHtml;\n",
              "          element.appendChild(docLink);\n",
              "        }\n",
              "      </script>\n",
              "    </div>\n",
              "  </div>\n",
              "  "
            ],
            "text/plain": [
              "                                 id        breed\n",
              "0  000bec180eb18c7604dcecc8fe0dba07  boston_bull\n",
              "1  001513dfcb2ffafc82cccf4d8bbaba97        dingo\n",
              "2  001cdf01b096e06d78e9e5112d419397     pekinese\n",
              "3  00214f311d5d2247d5dfe4fe24b2303d     bluetick"
            ]
          },
          "execution_count": 8,
          "metadata": {},
          "output_type": "execute_result"
        }
      ],
      "source": [
        "label=pd.read_csv('/content/labels.csv') # Loading labels\n",
        "label.head(4)"
      ]
    },
    {
      "cell_type": "code",
      "execution_count": null,
      "metadata": {
        "id": "8cqXjecPHpdT"
      },
      "outputs": [],
      "source": [
        "label['id']=label['id']+'.jpg'"
      ]
    },
    {
      "cell_type": "code",
      "execution_count": null,
      "metadata": {
        "colab": {
          "base_uri": "https://localhost:8080/",
          "height": 175
        },
        "id": "JhE6psTJHuZW",
        "outputId": "ca30ba02-a964-4a8f-dcb4-41a547532549"
      },
      "outputs": [
        {
          "data": {
            "text/html": [
              "\n",
              "  <div id=\"df-70a3c15a-fd83-4de5-bd4a-bb8683a64cb8\">\n",
              "    <div class=\"colab-df-container\">\n",
              "      <div>\n",
              "<style scoped>\n",
              "    .dataframe tbody tr th:only-of-type {\n",
              "        vertical-align: middle;\n",
              "    }\n",
              "\n",
              "    .dataframe tbody tr th {\n",
              "        vertical-align: top;\n",
              "    }\n",
              "\n",
              "    .dataframe thead th {\n",
              "        text-align: right;\n",
              "    }\n",
              "</style>\n",
              "<table border=\"1\" class=\"dataframe\">\n",
              "  <thead>\n",
              "    <tr style=\"text-align: right;\">\n",
              "      <th></th>\n",
              "      <th>id</th>\n",
              "      <th>breed</th>\n",
              "    </tr>\n",
              "  </thead>\n",
              "  <tbody>\n",
              "    <tr>\n",
              "      <th>0</th>\n",
              "      <td>000bec180eb18c7604dcecc8fe0dba07.jpg</td>\n",
              "      <td>boston_bull</td>\n",
              "    </tr>\n",
              "    <tr>\n",
              "      <th>1</th>\n",
              "      <td>001513dfcb2ffafc82cccf4d8bbaba97.jpg</td>\n",
              "      <td>dingo</td>\n",
              "    </tr>\n",
              "    <tr>\n",
              "      <th>2</th>\n",
              "      <td>001cdf01b096e06d78e9e5112d419397.jpg</td>\n",
              "      <td>pekinese</td>\n",
              "    </tr>\n",
              "    <tr>\n",
              "      <th>3</th>\n",
              "      <td>00214f311d5d2247d5dfe4fe24b2303d.jpg</td>\n",
              "      <td>bluetick</td>\n",
              "    </tr>\n",
              "  </tbody>\n",
              "</table>\n",
              "</div>\n",
              "      <button class=\"colab-df-convert\" onclick=\"convertToInteractive('df-70a3c15a-fd83-4de5-bd4a-bb8683a64cb8')\"\n",
              "              title=\"Convert this dataframe to an interactive table.\"\n",
              "              style=\"display:none;\">\n",
              "        \n",
              "  <svg xmlns=\"http://www.w3.org/2000/svg\" height=\"24px\"viewBox=\"0 0 24 24\"\n",
              "       width=\"24px\">\n",
              "    <path d=\"M0 0h24v24H0V0z\" fill=\"none\"/>\n",
              "    <path d=\"M18.56 5.44l.94 2.06.94-2.06 2.06-.94-2.06-.94-.94-2.06-.94 2.06-2.06.94zm-11 1L8.5 8.5l.94-2.06 2.06-.94-2.06-.94L8.5 2.5l-.94 2.06-2.06.94zm10 10l.94 2.06.94-2.06 2.06-.94-2.06-.94-.94-2.06-.94 2.06-2.06.94z\"/><path d=\"M17.41 7.96l-1.37-1.37c-.4-.4-.92-.59-1.43-.59-.52 0-1.04.2-1.43.59L10.3 9.45l-7.72 7.72c-.78.78-.78 2.05 0 2.83L4 21.41c.39.39.9.59 1.41.59.51 0 1.02-.2 1.41-.59l7.78-7.78 2.81-2.81c.8-.78.8-2.07 0-2.86zM5.41 20L4 18.59l7.72-7.72 1.47 1.35L5.41 20z\"/>\n",
              "  </svg>\n",
              "      </button>\n",
              "      \n",
              "  <style>\n",
              "    .colab-df-container {\n",
              "      display:flex;\n",
              "      flex-wrap:wrap;\n",
              "      gap: 12px;\n",
              "    }\n",
              "\n",
              "    .colab-df-convert {\n",
              "      background-color: #E8F0FE;\n",
              "      border: none;\n",
              "      border-radius: 50%;\n",
              "      cursor: pointer;\n",
              "      display: none;\n",
              "      fill: #1967D2;\n",
              "      height: 32px;\n",
              "      padding: 0 0 0 0;\n",
              "      width: 32px;\n",
              "    }\n",
              "\n",
              "    .colab-df-convert:hover {\n",
              "      background-color: #E2EBFA;\n",
              "      box-shadow: 0px 1px 2px rgba(60, 64, 67, 0.3), 0px 1px 3px 1px rgba(60, 64, 67, 0.15);\n",
              "      fill: #174EA6;\n",
              "    }\n",
              "\n",
              "    [theme=dark] .colab-df-convert {\n",
              "      background-color: #3B4455;\n",
              "      fill: #D2E3FC;\n",
              "    }\n",
              "\n",
              "    [theme=dark] .colab-df-convert:hover {\n",
              "      background-color: #434B5C;\n",
              "      box-shadow: 0px 1px 3px 1px rgba(0, 0, 0, 0.15);\n",
              "      filter: drop-shadow(0px 1px 2px rgba(0, 0, 0, 0.3));\n",
              "      fill: #FFFFFF;\n",
              "    }\n",
              "  </style>\n",
              "\n",
              "      <script>\n",
              "        const buttonEl =\n",
              "          document.querySelector('#df-70a3c15a-fd83-4de5-bd4a-bb8683a64cb8 button.colab-df-convert');\n",
              "        buttonEl.style.display =\n",
              "          google.colab.kernel.accessAllowed ? 'block' : 'none';\n",
              "\n",
              "        async function convertToInteractive(key) {\n",
              "          const element = document.querySelector('#df-70a3c15a-fd83-4de5-bd4a-bb8683a64cb8');\n",
              "          const dataTable =\n",
              "            await google.colab.kernel.invokeFunction('convertToInteractive',\n",
              "                                                     [key], {});\n",
              "          if (!dataTable) return;\n",
              "\n",
              "          const docLinkHtml = 'Like what you see? Visit the ' +\n",
              "            '<a target=\"_blank\" href=https://colab.research.google.com/notebooks/data_table.ipynb>data table notebook</a>'\n",
              "            + ' to learn more about interactive tables.';\n",
              "          element.innerHTML = '';\n",
              "          dataTable['output_type'] = 'display_data';\n",
              "          await google.colab.output.renderOutput(dataTable, element);\n",
              "          const docLink = document.createElement('div');\n",
              "          docLink.innerHTML = docLinkHtml;\n",
              "          element.appendChild(docLink);\n",
              "        }\n",
              "      </script>\n",
              "    </div>\n",
              "  </div>\n",
              "  "
            ],
            "text/plain": [
              "                                     id        breed\n",
              "0  000bec180eb18c7604dcecc8fe0dba07.jpg  boston_bull\n",
              "1  001513dfcb2ffafc82cccf4d8bbaba97.jpg        dingo\n",
              "2  001cdf01b096e06d78e9e5112d419397.jpg     pekinese\n",
              "3  00214f311d5d2247d5dfe4fe24b2303d.jpg     bluetick"
            ]
          },
          "execution_count": 10,
          "metadata": {},
          "output_type": "execute_result"
        }
      ],
      "source": [
        "label.head(4)"
      ]
    },
    {
      "cell_type": "code",
      "execution_count": null,
      "metadata": {
        "id": "u_WcXrz8H5eh"
      },
      "outputs": [],
      "source": [
        "# Image data generator\n",
        "idg=tf.keras.preprocessing.image.ImageDataGenerator(rotation_range=20,\n",
        "                                                    width_shift_range=20,\n",
        "                                                    height_shift_range=30,\n",
        "                                                    horizontal_flip=True,\n",
        "                                                    vertical_flip=False,\n",
        "                                                    validation_split=0.1,\n",
        "                                                    preprocessing_function=tf.keras.applications.vgg16.preprocess_input)"
      ]
    },
    {
      "cell_type": "code",
      "execution_count": null,
      "metadata": {
        "id": "7dK6ECF7Le3s"
      },
      "outputs": [],
      "source": [
        "b=64"
      ]
    },
    {
      "cell_type": "code",
      "execution_count": null,
      "metadata": {
        "colab": {
          "base_uri": "https://localhost:8080/"
        },
        "id": "0JYNlONmLFK3",
        "outputId": "bb450211-1c5b-411b-98a4-536fad09bc35"
      },
      "outputs": [
        {
          "name": "stdout",
          "output_type": "stream",
          "text": [
            "Found 9200 validated image filenames belonging to 120 classes.\n"
          ]
        }
      ],
      "source": [
        "train_idg=idg.flow_from_dataframe(label,'train/',x_col='id',y_col='breed',batch_size=b,\n",
        "                                  target_size=(300,300),subset='training')"
      ]
    },
    {
      "cell_type": "code",
      "execution_count": null,
      "metadata": {
        "colab": {
          "base_uri": "https://localhost:8080/"
        },
        "id": "cWTrPw7lLd5m",
        "outputId": "cba2a1a8-9417-46ff-a24d-bb2e636cfc79"
      },
      "outputs": [
        {
          "name": "stdout",
          "output_type": "stream",
          "text": [
            "Found 1022 validated image filenames belonging to 120 classes.\n"
          ]
        }
      ],
      "source": [
        "val_idg=idg.flow_from_dataframe(label,'train/',x_col='id',y_col='breed',batch_size=b,\n",
        "                                  target_size=(300,300),subset='validation')"
      ]
    },
    {
      "cell_type": "code",
      "execution_count": null,
      "metadata": {
        "colab": {
          "base_uri": "https://localhost:8080/"
        },
        "id": "dJkEthvjLlDa",
        "outputId": "73b3f3e1-29ce-4bac-dea2-70ec0693572e"
      },
      "outputs": [
        {
          "name": "stdout",
          "output_type": "stream",
          "text": [
            "Downloading data from https://storage.googleapis.com/tensorflow/keras-applications/vgg16/vgg16_weights_tf_dim_ordering_tf_kernels_notop.h5\n",
            "58889256/58889256 [==============================] - 0s 0us/step\n"
          ]
        }
      ],
      "source": [
        "vgg16=tf.keras.applications.VGG16(include_top=False,input_shape=(300,300,3)) # Downloading VGG16 model"
      ]
    },
    {
      "cell_type": "code",
      "execution_count": null,
      "metadata": {
        "colab": {
          "base_uri": "https://localhost:8080/",
          "height": 35
        },
        "id": "pcTOf3KML5uZ",
        "outputId": "b82167ce-4a74-4c2f-9214-0c43e941680b"
      },
      "outputs": [
        {
          "data": {
            "application/vnd.google.colaboratory.intrinsic+json": {
              "type": "string"
            },
            "text/plain": [
              "'block1_conv1'"
            ]
          },
          "execution_count": 16,
          "metadata": {},
          "output_type": "execute_result"
        }
      ],
      "source": [
        "vgg16.layers[1].name"
      ]
    },
    {
      "cell_type": "code",
      "execution_count": null,
      "metadata": {
        "colab": {
          "base_uri": "https://localhost:8080/"
        },
        "id": "zi8lzjMcL9U3",
        "outputId": "0fbef3e2-b6e1-4518-ecb0-c96fb576ee1c"
      },
      "outputs": [
        {
          "data": {
            "text/plain": [
              "True"
            ]
          },
          "execution_count": 17,
          "metadata": {},
          "output_type": "execute_result"
        }
      ],
      "source": [
        "vgg16.layers[1].trainable"
      ]
    },
    {
      "cell_type": "code",
      "execution_count": null,
      "metadata": {
        "id": "J6iTm3y8MLRR"
      },
      "outputs": [],
      "source": [
        "# freezing layers of vgg16\n",
        "vgg16.trainable=False"
      ]
    },
    {
      "cell_type": "code",
      "execution_count": null,
      "metadata": {
        "colab": {
          "base_uri": "https://localhost:8080/"
        },
        "id": "fGVeqBJvMP2T",
        "outputId": "6c0abeed-e611-4d97-ff67-cb466ccd3b74"
      },
      "outputs": [
        {
          "name": "stdout",
          "output_type": "stream",
          "text": [
            "input_1 False\n",
            "block1_conv1 False\n",
            "block1_conv2 False\n",
            "block1_pool False\n",
            "block2_conv1 False\n",
            "block2_conv2 False\n",
            "block2_pool False\n",
            "block3_conv1 False\n",
            "block3_conv2 False\n",
            "block3_conv3 False\n",
            "block3_pool False\n",
            "block4_conv1 False\n",
            "block4_conv2 False\n",
            "block4_conv3 False\n",
            "block4_pool False\n",
            "block5_conv1 False\n",
            "block5_conv2 False\n",
            "block5_conv3 False\n",
            "block5_pool False\n"
          ]
        }
      ],
      "source": [
        "for i in vgg16.layers:\n",
        "  print(i.name, i.trainable)"
      ]
    },
    {
      "cell_type": "code",
      "execution_count": null,
      "metadata": {
        "colab": {
          "base_uri": "https://localhost:8080/"
        },
        "id": "Z9lOKmA87TEB",
        "outputId": "4497048a-e71f-4806-de6b-9ffea41c0cfe"
      },
      "outputs": [
        {
          "name": "stdout",
          "output_type": "stream",
          "text": [
            "block5_conv2 False\n",
            "block5_conv3 False\n"
          ]
        }
      ],
      "source": [
        "for i in vgg16.layers[-3:-1]:\n",
        "  print(i.name, i.trainable)"
      ]
    },
    {
      "cell_type": "code",
      "execution_count": null,
      "metadata": {
        "colab": {
          "base_uri": "https://localhost:8080/"
        },
        "id": "WaNRl1RX7rBZ",
        "outputId": "1953f0b9-3a1b-4f9f-d17d-540cfe975076"
      },
      "outputs": [
        {
          "name": "stdout",
          "output_type": "stream",
          "text": [
            "block5_conv2 True\n",
            "block5_conv3 True\n"
          ]
        }
      ],
      "source": [
        "# Unfreezing last two layers of vgg16 model\n",
        "for i in vgg16.layers[-3:-1]:\n",
        "  i.trainable=True\n",
        "  print(i.name, i.trainable)"
      ]
    },
    {
      "cell_type": "code",
      "execution_count": null,
      "metadata": {
        "colab": {
          "base_uri": "https://localhost:8080/"
        },
        "id": "U3E5tAOq73V2",
        "outputId": "4b1bd0ab-4446-421f-8fe7-e36ea7aeb475"
      },
      "outputs": [
        {
          "name": "stdout",
          "output_type": "stream",
          "text": [
            "input_1 False\n",
            "block1_conv1 False\n",
            "block1_conv2 False\n",
            "block1_pool False\n",
            "block2_conv1 False\n",
            "block2_conv2 False\n",
            "block2_pool False\n",
            "block3_conv1 False\n",
            "block3_conv2 False\n",
            "block3_conv3 False\n",
            "block3_pool False\n",
            "block4_conv1 False\n",
            "block4_conv2 False\n",
            "block4_conv3 False\n",
            "block4_pool False\n",
            "block5_conv1 False\n",
            "block5_conv2 True\n",
            "block5_conv3 True\n",
            "block5_pool False\n"
          ]
        }
      ],
      "source": [
        "for i in vgg16.layers:\n",
        "  print(i.name, i.trainable)"
      ]
    },
    {
      "cell_type": "code",
      "execution_count": null,
      "metadata": {
        "colab": {
          "base_uri": "https://localhost:8080/"
        },
        "id": "ZpXLq26XNkDL",
        "outputId": "872bb8bd-a3b7-4390-bf28-856f62e5e4cb"
      },
      "outputs": [
        {
          "data": {
            "text/plain": [
              "<KerasTensor: shape=(None, 9, 9, 512) dtype=float32 (created by layer 'block5_pool')>"
            ]
          },
          "execution_count": 23,
          "metadata": {},
          "output_type": "execute_result"
        }
      ],
      "source": [
        "vgg16.output"
      ]
    },
    {
      "cell_type": "code",
      "execution_count": null,
      "metadata": {
        "id": "ryfg0VsLMXnO"
      },
      "outputs": [],
      "source": [
        "# output block\n",
        "flat=tf.keras.layers.GlobalAveragePooling2D() (vgg16.output)\n",
        "dense1 = tf.keras.layers.Dense(units=512,activation='relu',name='Dense1') (flat)\n",
        "dropout_1=tf.keras.layers.Dropout(rate=0.2,name='DropoutLayer1') (dense1)\n",
        "dense2 = tf.keras.layers.Dense(units=256,activation='relu',name='Dense2') (dropout_1)\n",
        "dropout_2=tf.keras.layers.Dropout(rate=0.2,name='DropoutLayer2') (dense2)\n",
        "dense3 = tf.keras.layers.Dense(units=128,activation='relu',name='Dense3') (dropout_2)\n",
        "dropout_3=tf.keras.layers.Dropout(rate=0.2,name='DropoutLayer3') (dense3)\n",
        "dense4 = tf.keras.layers.Dense(units=64,activation='relu',name='Dense4') (dropout_3)\n",
        "output = tf.keras.layers.Dense(units=120,activation='softmax',name='OutputLayer') (dense4)"
      ]
    },
    {
      "cell_type": "code",
      "execution_count": null,
      "metadata": {
        "id": "rTjg2EM_NEto"
      },
      "outputs": [],
      "source": [
        "# Final model\n",
        "model=tf.keras.models.Model(inputs=[vgg16.input], outputs=output)"
      ]
    },
    {
      "cell_type": "code",
      "execution_count": null,
      "metadata": {
        "colab": {
          "base_uri": "https://localhost:8080/"
        },
        "id": "Qezwi8xBQdrk",
        "outputId": "b467b934-2a6d-4241-ab1c-df6a5c53edc4"
      },
      "outputs": [
        {
          "name": "stdout",
          "output_type": "stream",
          "text": [
            "Model: \"model\"\n",
            "_________________________________________________________________\n",
            " Layer (type)                Output Shape              Param #   \n",
            "=================================================================\n",
            " input_1 (InputLayer)        [(None, 300, 300, 3)]     0         \n",
            "                                                                 \n",
            " block1_conv1 (Conv2D)       (None, 300, 300, 64)      1792      \n",
            "                                                                 \n",
            " block1_conv2 (Conv2D)       (None, 300, 300, 64)      36928     \n",
            "                                                                 \n",
            " block1_pool (MaxPooling2D)  (None, 150, 150, 64)      0         \n",
            "                                                                 \n",
            " block2_conv1 (Conv2D)       (None, 150, 150, 128)     73856     \n",
            "                                                                 \n",
            " block2_conv2 (Conv2D)       (None, 150, 150, 128)     147584    \n",
            "                                                                 \n",
            " block2_pool (MaxPooling2D)  (None, 75, 75, 128)       0         \n",
            "                                                                 \n",
            " block3_conv1 (Conv2D)       (None, 75, 75, 256)       295168    \n",
            "                                                                 \n",
            " block3_conv2 (Conv2D)       (None, 75, 75, 256)       590080    \n",
            "                                                                 \n",
            " block3_conv3 (Conv2D)       (None, 75, 75, 256)       590080    \n",
            "                                                                 \n",
            " block3_pool (MaxPooling2D)  (None, 37, 37, 256)       0         \n",
            "                                                                 \n",
            " block4_conv1 (Conv2D)       (None, 37, 37, 512)       1180160   \n",
            "                                                                 \n",
            " block4_conv2 (Conv2D)       (None, 37, 37, 512)       2359808   \n",
            "                                                                 \n",
            " block4_conv3 (Conv2D)       (None, 37, 37, 512)       2359808   \n",
            "                                                                 \n",
            " block4_pool (MaxPooling2D)  (None, 18, 18, 512)       0         \n",
            "                                                                 \n",
            " block5_conv1 (Conv2D)       (None, 18, 18, 512)       2359808   \n",
            "                                                                 \n",
            " block5_conv2 (Conv2D)       (None, 18, 18, 512)       2359808   \n",
            "                                                                 \n",
            " block5_conv3 (Conv2D)       (None, 18, 18, 512)       2359808   \n",
            "                                                                 \n",
            " block5_pool (MaxPooling2D)  (None, 9, 9, 512)         0         \n",
            "                                                                 \n",
            " global_average_pooling2d (G  (None, 512)              0         \n",
            " lobalAveragePooling2D)                                          \n",
            "                                                                 \n",
            " Dense1 (Dense)              (None, 512)               262656    \n",
            "                                                                 \n",
            " DropoutLayer1 (Dropout)     (None, 512)               0         \n",
            "                                                                 \n",
            " Dense2 (Dense)              (None, 256)               131328    \n",
            "                                                                 \n",
            " DropoutLayer2 (Dropout)     (None, 256)               0         \n",
            "                                                                 \n",
            " Dense3 (Dense)              (None, 128)               32896     \n",
            "                                                                 \n",
            " DropoutLayer3 (Dropout)     (None, 128)               0         \n",
            "                                                                 \n",
            " Dense4 (Dense)              (None, 64)                8256      \n",
            "                                                                 \n",
            " OutputLayer (Dense)         (None, 120)               7800      \n",
            "                                                                 \n",
            "=================================================================\n",
            "Total params: 15,157,624\n",
            "Trainable params: 5,162,552\n",
            "Non-trainable params: 9,995,072\n",
            "_________________________________________________________________\n"
          ]
        }
      ],
      "source": [
        "model.summary()"
      ]
    },
    {
      "cell_type": "code",
      "execution_count": null,
      "metadata": {
        "id": "vhu9Ehv-Qu3u"
      },
      "outputs": [],
      "source": [
        "model.compile(optimizer=tf.keras.optimizers.SGD(0.02),loss=tf.keras.losses.categorical_crossentropy,metrics=['acc'])"
      ]
    },
    {
      "cell_type": "code",
      "execution_count": null,
      "metadata": {
        "colab": {
          "base_uri": "https://localhost:8080/"
        },
        "id": "8HMB34wnRCsA",
        "outputId": "22307eaf-a20d-4d5b-93b5-1ece0453efb3"
      },
      "outputs": [
        {
          "name": "stdout",
          "output_type": "stream",
          "text": [
            "Epoch 1/30\n",
            "144/144 [==============================] - 315s 2s/step - loss: 4.7508 - acc: 0.0185 - val_loss: 4.5718 - val_acc: 0.0538\n",
            "Epoch 2/30\n",
            "144/144 [==============================] - 282s 2s/step - loss: 4.4005 - acc: 0.0673 - val_loss: 3.9790 - val_acc: 0.1125\n",
            "Epoch 3/30\n",
            "144/144 [==============================] - 266s 2s/step - loss: 3.7735 - acc: 0.1417 - val_loss: 3.0765 - val_acc: 0.2750\n",
            "Epoch 4/30\n",
            "144/144 [==============================] - 265s 2s/step - loss: 3.0135 - acc: 0.2507 - val_loss: 2.5019 - val_acc: 0.3601\n",
            "Epoch 5/30\n",
            "144/144 [==============================] - 281s 2s/step - loss: 2.4286 - acc: 0.3605 - val_loss: 1.9728 - val_acc: 0.4804\n",
            "Epoch 6/30\n",
            "144/144 [==============================] - 267s 2s/step - loss: 2.1185 - acc: 0.4159 - val_loss: 1.6348 - val_acc: 0.5421\n",
            "Epoch 7/30\n",
            "144/144 [==============================] - 265s 2s/step - loss: 1.8190 - acc: 0.4803 - val_loss: 1.5854 - val_acc: 0.5646\n",
            "Epoch 8/30\n",
            "144/144 [==============================] - 267s 2s/step - loss: 1.6676 - acc: 0.5173 - val_loss: 1.6652 - val_acc: 0.5528\n",
            "Epoch 9/30\n",
            "144/144 [==============================] - 268s 2s/step - loss: 1.4935 - acc: 0.5610 - val_loss: 1.3801 - val_acc: 0.6067\n",
            "Epoch 10/30\n",
            "144/144 [==============================] - 268s 2s/step - loss: 1.3754 - acc: 0.5945 - val_loss: 1.3320 - val_acc: 0.6341\n",
            "Epoch 11/30\n",
            "144/144 [==============================] - 282s 2s/step - loss: 1.2600 - acc: 0.6158 - val_loss: 1.2877 - val_acc: 0.6380\n",
            "Epoch 12/30\n",
            "144/144 [==============================] - 267s 2s/step - loss: 1.1788 - acc: 0.6385 - val_loss: 1.2346 - val_acc: 0.6429\n",
            "Epoch 13/30\n",
            "144/144 [==============================] - 266s 2s/step - loss: 1.0848 - acc: 0.6637 - val_loss: 1.1525 - val_acc: 0.6595\n",
            "Epoch 14/30\n",
            "144/144 [==============================] - 281s 2s/step - loss: 1.0167 - acc: 0.6850 - val_loss: 1.1925 - val_acc: 0.6654\n",
            "Epoch 15/30\n",
            "144/144 [==============================] - 268s 2s/step - loss: 0.9565 - acc: 0.7041 - val_loss: 1.1992 - val_acc: 0.6585\n",
            "Epoch 16/30\n",
            "144/144 [==============================] - 267s 2s/step - loss: 0.8981 - acc: 0.7168 - val_loss: 1.2606 - val_acc: 0.6380\n",
            "Epoch 17/30\n",
            "144/144 [==============================] - 280s 2s/step - loss: 0.8374 - acc: 0.7316 - val_loss: 1.1880 - val_acc: 0.6683\n",
            "Epoch 18/30\n",
            "144/144 [==============================] - 265s 2s/step - loss: 0.7929 - acc: 0.7484 - val_loss: 1.1791 - val_acc: 0.6654\n",
            "Epoch 19/30\n",
            "144/144 [==============================] - 268s 2s/step - loss: 0.7541 - acc: 0.7571 - val_loss: 1.2386 - val_acc: 0.6703\n",
            "Epoch 20/30\n",
            "144/144 [==============================] - 268s 2s/step - loss: 0.7303 - acc: 0.7635 - val_loss: 1.1137 - val_acc: 0.6712\n",
            "Epoch 21/30\n",
            "144/144 [==============================] - 267s 2s/step - loss: 0.6771 - acc: 0.7779 - val_loss: 1.0950 - val_acc: 0.6918\n",
            "Epoch 22/30\n",
            " 95/144 [==================>...........] - ETA: 1:21 - loss: 0.6257 - acc: 0.7939"
          ]
        }
      ],
      "source": [
        "model.fit(train_idg, batch_size=b, epochs=30, validation_data=val_idg)"
      ]
    },
    {
      "cell_type": "code",
      "execution_count": null,
      "metadata": {
        "colab": {
          "base_uri": "https://localhost:8080/",
          "height": 480
        },
        "id": "IOzf-3_BWSSE",
        "outputId": "b6ef640e-4870-4c13-dade-75425b987456"
      },
      "outputs": [
        {
          "data": {
            "text/plain": [
              "Text(0.5, 1.0, 'Loss Comparison')"
            ]
          },
          "execution_count": 26,
          "metadata": {},
          "output_type": "execute_result"
        },
        {
          "data": {
            "image/png": "[encoded data removed]",
            "text/plain": [
              "<Figure size 1600x500 with 2 Axes>"
            ]
          },
          "metadata": {},
          "output_type": "display_data"
        }
      ],
      "source": [
        "plt.figure(figsize=(16,5))\n",
        "\n",
        "plt.subplot(121)\n",
        "sns.lineplot(model.history.history['acc'],label='train accuracy')\n",
        "sns.lineplot(model.history.history['val_acc'],label='validation accuracy')\n",
        "plt.xlabel('Epoch count')\n",
        "plt.ylabel('Accuracy')\n",
        "plt.title('Accuracy Comparison')\n",
        "\n",
        "plt.subplot(122)\n",
        "sns.lineplot(model.history.history['loss'],label='train loss')\n",
        "sns.lineplot(model.history.history['val_loss'],label='validation loss')\n",
        "plt.xlabel('Epoch count')\n",
        "plt.ylabel('Loss')\n",
        "plt.title('Loss Comparison')"
      ]
    }
  ],
  "metadata": {
    "accelerator": "GPU",
    "colab": {
      "provenance": []
    },
    "kernelspec": {
      "display_name": "Python 3",
      "name": "python3"
    },
    "language_info": {
      "name": "python"
    }
  },
  "nbformat": 4,
  "nbformat_minor": 0
}